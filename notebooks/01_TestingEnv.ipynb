{
 "cells": [
  {
   "cell_type": "code",
   "execution_count": 1,
   "metadata": {},
   "outputs": [
    {
     "name": "stdout",
     "output_type": "stream",
     "text": [
      "Looking in indexes: https://pypi.org/simple, https://pypi.ngc.nvidia.com\n",
      "Collecting openai\n",
      "  Downloading openai-1.58.1-py3-none-any.whl (454 kB)\n",
      "     ---------------------------------------- 0.0/454.3 kB ? eta -:--:--\n",
      "     --------- ---------------------------- 112.6/454.3 kB 3.3 MB/s eta 0:00:01\n",
      "     ----------------------- -------------- 286.7/454.3 kB 3.5 MB/s eta 0:00:01\n",
      "     -------------------------------------- 454.3/454.3 kB 4.0 MB/s eta 0:00:00\n",
      "Collecting anyio<5,>=3.5.0\n",
      "  Downloading anyio-4.7.0-py3-none-any.whl (93 kB)\n",
      "     ---------------------------------------- 0.0/93.1 kB ? eta -:--:--\n",
      "     ---------------------------------------- 93.1/93.1 kB ? eta 0:00:00\n",
      "Collecting jiter<1,>=0.4.0\n",
      "  Downloading jiter-0.8.2-cp310-cp310-win_amd64.whl (204 kB)\n",
      "     ---------------------------------------- 0.0/204.4 kB ? eta -:--:--\n",
      "     -------------------------------------- 204.4/204.4 kB 6.3 MB/s eta 0:00:00\n",
      "Collecting tqdm>4\n",
      "  Downloading tqdm-4.67.1-py3-none-any.whl (78 kB)\n",
      "     ---------------------------------------- 0.0/78.5 kB ? eta -:--:--\n",
      "     ---------------------------------------- 78.5/78.5 kB ? eta 0:00:00\n",
      "Collecting httpx<1,>=0.23.0\n",
      "  Downloading httpx-0.28.1-py3-none-any.whl (73 kB)\n",
      "     ---------------------------------------- 0.0/73.5 kB ? eta -:--:--\n",
      "     ---------------------------------------- 73.5/73.5 kB ? eta 0:00:00\n",
      "Requirement already satisfied: typing-extensions<5,>=4.11 in f:\\01_learning\\semantickernel\\venv\\lib\\site-packages (from openai) (4.12.2)\n",
      "Collecting distro<2,>=1.7.0\n",
      "  Downloading distro-1.9.0-py3-none-any.whl (20 kB)\n",
      "Collecting sniffio\n",
      "  Downloading sniffio-1.3.1-py3-none-any.whl (10 kB)\n",
      "Collecting pydantic<3,>=1.9.0\n",
      "  Downloading pydantic-2.10.4-py3-none-any.whl (431 kB)\n",
      "     ---------------------------------------- 0.0/431.8 kB ? eta -:--:--\n",
      "     ----------------------------- -------- 337.9/431.8 kB 7.0 MB/s eta 0:00:01\n",
      "     -------------------------------------- 431.8/431.8 kB 9.0 MB/s eta 0:00:00\n",
      "Collecting idna>=2.8\n",
      "  Downloading idna-3.10-py3-none-any.whl (70 kB)\n",
      "     ---------------------------------------- 0.0/70.4 kB ? eta -:--:--\n",
      "     ---------------------------------------- 70.4/70.4 kB ? eta 0:00:00\n",
      "Requirement already satisfied: exceptiongroup>=1.0.2 in f:\\01_learning\\semantickernel\\venv\\lib\\site-packages (from anyio<5,>=3.5.0->openai) (1.2.2)\n",
      "Collecting httpcore==1.*\n",
      "  Downloading httpcore-1.0.7-py3-none-any.whl (78 kB)\n",
      "     ---------------------------------------- 0.0/78.6 kB ? eta -:--:--\n",
      "     ---------------------------------------- 78.6/78.6 kB ? eta 0:00:00\n",
      "Collecting certifi\n",
      "  Downloading certifi-2024.12.14-py3-none-any.whl (164 kB)\n",
      "     ---------------------------------------- 0.0/164.9 kB ? eta -:--:--\n",
      "     ---------------------------------------- 164.9/164.9 kB ? eta 0:00:00\n",
      "Collecting h11<0.15,>=0.13\n",
      "  Downloading h11-0.14.0-py3-none-any.whl (58 kB)\n",
      "     ---------------------------------------- 0.0/58.3 kB ? eta -:--:--\n",
      "     ---------------------------------------- 58.3/58.3 kB ? eta 0:00:00\n",
      "Collecting annotated-types>=0.6.0\n",
      "  Downloading annotated_types-0.7.0-py3-none-any.whl (13 kB)\n",
      "Collecting pydantic-core==2.27.2\n",
      "  Downloading pydantic_core-2.27.2-cp310-cp310-win_amd64.whl (2.0 MB)\n",
      "     ---------------------------------------- 0.0/2.0 MB ? eta -:--:--\n",
      "     ------- -------------------------------- 0.4/2.0 MB 7.6 MB/s eta 0:00:01\n",
      "     --------------- ------------------------ 0.7/2.0 MB 9.3 MB/s eta 0:00:01\n",
      "     --------------------- ------------------ 1.1/2.0 MB 8.5 MB/s eta 0:00:01\n",
      "     -------------------------------- ------- 1.6/2.0 MB 9.3 MB/s eta 0:00:01\n",
      "     ---------------------------------------- 2.0/2.0 MB 9.7 MB/s eta 0:00:00\n",
      "Requirement already satisfied: colorama in f:\\01_learning\\semantickernel\\venv\\lib\\site-packages (from tqdm>4->openai) (0.4.6)\n",
      "Installing collected packages: tqdm, sniffio, pydantic-core, jiter, idna, h11, distro, certifi, annotated-types, pydantic, httpcore, anyio, httpx, openai\n",
      "Successfully installed annotated-types-0.7.0 anyio-4.7.0 certifi-2024.12.14 distro-1.9.0 h11-0.14.0 httpcore-1.0.7 httpx-0.28.1 idna-3.10 jiter-0.8.2 openai-1.58.1 pydantic-2.10.4 pydantic-core-2.27.2 sniffio-1.3.1 tqdm-4.67.1\n"
     ]
    },
    {
     "name": "stderr",
     "output_type": "stream",
     "text": [
      "\n",
      "[notice] A new release of pip is available: 23.0.1 -> 24.3.1\n",
      "[notice] To update, run: python.exe -m pip install --upgrade pip\n"
     ]
    },
    {
     "name": "stdout",
     "output_type": "stream",
     "text": [
      "Looking in indexes: https://pypi.org/simple, https://pypi.ngc.nvidia.com\n",
      "Collecting python-dotenv\n",
      "  Downloading python_dotenv-1.0.1-py3-none-any.whl (19 kB)\n",
      "Installing collected packages: python-dotenv\n",
      "Successfully installed python-dotenv-1.0.1\n"
     ]
    },
    {
     "name": "stderr",
     "output_type": "stream",
     "text": [
      "\n",
      "[notice] A new release of pip is available: 23.0.1 -> 24.3.1\n",
      "[notice] To update, run: python.exe -m pip install --upgrade pip\n"
     ]
    },
    {
     "name": "stdout",
     "output_type": "stream",
     "text": [
      "Looking in indexes: https://pypi.org/simple, https://pypi.ngc.nvidia.com\n",
      "Collecting pillow\n",
      "  Downloading pillow-11.1.0-cp310-cp310-win_amd64.whl (2.6 MB)\n",
      "     ---------------------------------------- 0.0/2.6 MB ? eta -:--:--\n",
      "      --------------------------------------- 0.1/2.6 MB 3.2 MB/s eta 0:00:01\n",
      "     -- ------------------------------------- 0.2/2.6 MB 2.4 MB/s eta 0:00:02\n",
      "     ---- ----------------------------------- 0.3/2.6 MB 2.5 MB/s eta 0:00:01\n",
      "     -------- ------------------------------- 0.5/2.6 MB 3.3 MB/s eta 0:00:01\n",
      "     ----------- ---------------------------- 0.7/2.6 MB 3.6 MB/s eta 0:00:01\n",
      "     --------------- ------------------------ 1.0/2.6 MB 4.1 MB/s eta 0:00:01\n",
      "     --------------------- ------------------ 1.4/2.6 MB 4.8 MB/s eta 0:00:01\n",
      "     -------------------------- ------------- 1.7/2.6 MB 5.0 MB/s eta 0:00:01\n",
      "     --------------------------------- ------ 2.2/2.6 MB 5.6 MB/s eta 0:00:01\n",
      "     ---------------------------------------- 2.6/2.6 MB 6.2 MB/s eta 0:00:00\n",
      "Installing collected packages: pillow\n",
      "Successfully installed pillow-11.1.0\n"
     ]
    },
    {
     "name": "stderr",
     "output_type": "stream",
     "text": [
      "\n",
      "[notice] A new release of pip is available: 23.0.1 -> 24.3.1\n",
      "[notice] To update, run: python.exe -m pip install --upgrade pip\n"
     ]
    },
    {
     "name": "stdout",
     "output_type": "stream",
     "text": [
      "Looking in indexes: https://pypi.org/simple, https://pypi.ngc.nvidia.com\n",
      "Collecting requests\n",
      "  Downloading requests-2.32.3-py3-none-any.whl (64 kB)\n",
      "     ---------------------------------------- 0.0/64.9 kB ? eta -:--:--\n",
      "     ---------------------------------------- 64.9/64.9 kB 3.4 MB/s eta 0:00:00\n",
      "Collecting urllib3<3,>=1.21.1\n",
      "  Downloading urllib3-2.3.0-py3-none-any.whl (128 kB)\n",
      "     ---------------------------------------- 0.0/128.4 kB ? eta -:--:--\n",
      "     -------------------------------------- 128.4/128.4 kB 3.8 MB/s eta 0:00:00\n",
      "Requirement already satisfied: certifi>=2017.4.17 in f:\\01_learning\\semantickernel\\venv\\lib\\site-packages (from requests) (2024.12.14)\n",
      "Collecting charset-normalizer<4,>=2\n",
      "  Downloading charset_normalizer-3.4.1-cp310-cp310-win_amd64.whl (102 kB)\n",
      "     ---------------------------------------- 0.0/102.8 kB ? eta -:--:--\n",
      "     -------------------------------------- 102.8/102.8 kB 5.8 MB/s eta 0:00:00\n",
      "Requirement already satisfied: idna<4,>=2.5 in f:\\01_learning\\semantickernel\\venv\\lib\\site-packages (from requests) (3.10)\n",
      "Installing collected packages: urllib3, charset-normalizer, requests\n",
      "Successfully installed charset-normalizer-3.4.1 requests-2.32.3 urllib3-2.3.0\n"
     ]
    },
    {
     "name": "stderr",
     "output_type": "stream",
     "text": [
      "\n",
      "[notice] A new release of pip is available: 23.0.1 -> 24.3.1\n",
      "[notice] To update, run: python.exe -m pip install --upgrade pip\n"
     ]
    }
   ],
   "source": [
    "! pip install openai -U\n",
    "! pip install pillow -U\n",
    "! pip install requests -U"
   ]
  },
  {
   "cell_type": "code",
   "execution_count": 2,
   "metadata": {},
   "outputs": [],
   "source": [
    "import os\n",
    "import json\n",
    "from openai import AzureOpenAI"
   ]
  },
  {
   "cell_type": "code",
   "execution_count": 25,
   "metadata": {},
   "outputs": [],
   "source": [
    "with open('config.json') as config_file:\n",
    "    config = json.load(config_file)\n",
    "\n",
    "azure_openai_version = config.get('azureOpenAiVersion')\n",
    "azure_openai_endpoint = config.get('azureOpenAiEndpoint')\n",
    "azure_openai_key = config.get('azureOpenAiKey')\n",
    "azure_openai_deployment_name = config.get('azureOpenAiDeploymentName') #model name"
   ]
  },
  {
   "cell_type": "code",
   "execution_count": 35,
   "metadata": {},
   "outputs": [],
   "source": [
    "client = AzureOpenAI(\n",
    "  azure_endpoint = azure_openai_endpoint, \n",
    "  api_key = azure_openai_key,  \n",
    "  api_version = azure_openai_version,\n",
    ")"
   ]
  },
  {
   "cell_type": "code",
   "execution_count": 38,
   "metadata": {},
   "outputs": [],
   "source": [
    "response = client.chat.completions.create(\n",
    "    model=azure_openai_deployment_name, \n",
    "    messages=[\n",
    "        {\"role\": \"system\", \"content\": \"You are a AI teacher.\"},\n",
    "        {\"role\": \"user\", \"content\": \"Can you explain what is Machine Learning?\"}\n",
    "    ]\n",
    ")"
   ]
  },
  {
   "cell_type": "code",
   "execution_count": 39,
   "metadata": {},
   "outputs": [
    {
     "data": {
      "text/plain": [
       "\"Certainly! Machine Learning (ML) is a subfield of artificial intelligence (AI) that focuses on the development of algorithms and models that enable computers to learn from and make predictions or decisions based on data. Instead of being explicitly programmed to perform a specific task, a machine learning system uses data to learn patterns and relationships, which it can then apply to new, unseen data.\\n\\nHere's a breakdown of the key concepts in machine learning:\\n\\n1. **Data**: Machine learning requires large amounts of data to train models. This data can be structured (like databases) or unstructured (like images, text, or audio).\\n\\n2. **Algorithms**: These are the mathematical methods and procedures that models use to learn from data. Common algorithms include linear regression, decision trees, support vector machines, and neural networks.\\n\\n3. **Training**: This is the process of feeding data into an algorithm to help the machine learning model learn the underlying patterns. During training, the model adjusts its parameters to minimize errors.\\n\\n4. **Model**: The end product of the training process. A model is a system that makes predictions or decisions based on new data, having learned from the training data.\\n\\n5. **Features**: Individual measurable properties or characteristics of the data used as inputs for the model. For example, in a housing price prediction model, features might include the size of the house, the number of bedrooms, and the location.\\n\\n6. **Labels**: These are the outputs or the actual results that the model is trying to predict. For example, in a supervised learning model that predicts house prices, the labels would be the actual prices of the houses.\\n\\n7. **Supervised Learning**: A type of machine learning where the model is trained on labeled data. The model learns to map input features to the correct output label. Examples include classification and regression tasks.\\n\\n8. **Unsupervised Learning**: A type of machine learning where the model is trained on data without labeled responses. The goal is to find patterns or structure in the data. Examples include clustering and dimensionality reduction.\\n\\n9. **Reinforcement Learning**: A type of machine learning where an agent learns to make decisions by receiving rewards or penalties. The agent learns to take actions in an environment to maximize cumulative rewards.\\n\\n10. **Evaluation**: After training, the model is tested on new, unseen data to evaluate its performance. Common evaluation metrics include accuracy, precision, recall, and F1 score.\\n\\nMachine learning is applied in various domains such as image and speech recognition, natural language processing, medical diagnosis, financial forecasting, recommendation systems, and autonomous vehicles, among others. The field is continuously evolving with new techniques and technologies being developed to make systems more accurate, efficient, and capable.\""
      ]
     },
     "execution_count": 39,
     "metadata": {},
     "output_type": "execute_result"
    }
   ],
   "source": [
    "response.choices[0].message.content"
   ]
  }
 ],
 "metadata": {
  "kernelspec": {
   "display_name": "venv",
   "language": "python",
   "name": "python3"
  },
  "language_info": {
   "codemirror_mode": {
    "name": "ipython",
    "version": 3
   },
   "file_extension": ".py",
   "mimetype": "text/x-python",
   "name": "python",
   "nbconvert_exporter": "python",
   "pygments_lexer": "ipython3",
   "version": "3.10.11"
  }
 },
 "nbformat": 4,
 "nbformat_minor": 2
}
